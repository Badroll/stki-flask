{
 "cells": [
  {
   "cell_type": "code",
   "execution_count": 1,
   "metadata": {},
   "outputs": [
    {
     "name": "stderr",
     "output_type": "stream",
     "text": [
      "[nltk_data] Downloading package punkt to\n",
      "[nltk_data]     C:\\Users\\badru\\AppData\\Roaming\\nltk_data...\n",
      "[nltk_data]   Package punkt is already up-to-date!\n",
      "[nltk_data] Downloading package stopwords to\n",
      "[nltk_data]     C:\\Users\\badru\\AppData\\Roaming\\nltk_data...\n",
      "[nltk_data]   Package stopwords is already up-to-date!\n"
     ]
    },
    {
     "data": {
      "text/plain": [
       "True"
      ]
     },
     "execution_count": 1,
     "metadata": {},
     "output_type": "execute_result"
    }
   ],
   "source": [
    "from sklearn.feature_extraction.text import TfidfVectorizer\n",
    "from sklearn.metrics.pairwise import cosine_similarity\n",
    "import joblib\n",
    "import heapq\n",
    "import re\n",
    "import nltk\n",
    "from bs4 import BeautifulSoup\n",
    "from nltk.tokenize import word_tokenize\n",
    "from nltk.corpus import stopwords\n",
    "from Sastrawi.Stemmer.StemmerFactory import StemmerFactory\n",
    "import get_data\n",
    "\n",
    "nltk.download('punkt')\n",
    "nltk.download('stopwords')"
   ]
  },
  {
   "cell_type": "code",
   "execution_count": 2,
   "metadata": {},
   "outputs": [],
   "source": [
    "documents = get_data.master_data"
   ]
  },
  {
   "cell_type": "code",
   "execution_count": 3,
   "metadata": {},
   "outputs": [
    {
     "name": "stdout",
     "output_type": "stream",
     "text": [
      " implementasi teknologi blockchain dalam keamanan data transaksi digital   jurnal ini membahas penerapan teknologi blockchain untuk meningkatkan keamanan transaksi digital  melalui penelitian ini  dijelaskan bagaimana blockchain dapat mengurangi risiko keamanan data pada transaksi online \n",
      " analisis sentimen pada media sosial menggunakan metode pembelajaran mesin   studi ini menginvestigasi berbagai teknik pembelajaran mesin untuk menganalisis sentimen dalam konten media sosial  penelitian ini mengevaluasi kinerja berbagai algoritma dalam mengklasifikasikan sentimen yang diekspresikan dalam konten online \n",
      " teknik penyimpanan data yang memperhatikan kebijakan privasi pada sistem kesehatan   fokus pada bidang kesehatan  penelitian ini mengeksplorasi teknik penyimpanan data yang memperhatikan kebijakan privasi untuk menghasilkan wawasan yang berarti dari data medis sensitif sambil memastikan privasi dan kerahasiaan pasien \n",
      " optimalisasi alokasi sumber daya pada lingkungan komputasi awan   mengatasi tantangan alokasi sumber daya dalam komputasi awan  paper ini mengusulkan dan mengevaluasi algoritma yang bertujuan untuk mengoptimalkan alokasi sumber daya guna meningkatkan kinerja dan efisiensi biaya \n",
      " intelijen ancaman keamanan siber  tren dan tantangan   jurnal ini meninjau tren  tantangan  dan kemajuan terkini dalam intelijen ancaman keamanan siber  menyoroti perkembangan lanskap ancaman siber dan strategi mitigasi yang berkembang \n",
      " pemrosesan bahasa alami untuk ringkasan teks   dengan fokus pada pemrosesan bahasa alami  nlp   studi ini menginvestigasi teknik dan algoritma untuk merangkum otomatis informasi kunci dari data teks yang besar \n",
      " pengenalan gambar yang kokoh menggunakan model pembelajaran mendalam   menjelajahi model pembelajaran mendalam  penelitian ini mengusulkan metode untuk meningkatkan ketangguhan sistem pengenalan gambar terhadap berbagai serangan adversarial dan distorsi gambar \n",
      " otentikasi berbasis blockchain untuk transaksi yang aman   paper ini memaparkan mekanisme otentikasi berbasis blockchain untuk memastikan transaksi yang aman dan tidak dapat dimanipulasi dalam sistem keuangan dan digital \n",
      " analitika data besar untuk perawatan prediktif dalam manufaktur   fokus pada perawatan prediktif  penelitian ini menggunakan analitika data besar untuk memprediksi dan mencegah kerusakan peralatan dalam industri manufaktur  meningkatkan efisiensi operasional \n",
      " sistem keamanan rumah pintar berbasis iot   investigasi aplikasi iot  penelitian ini merancang dan mengevaluasi sistem keamanan rumah pintar yang memanfaatkan perangkat iot untuk meningkatkan keamanan dan otomatisasi rumah \n",
      " pembelajaran penguatan mendalam untuk kendaraan otonom   studi ini mengeksplorasi aplikasi algoritma pembelajaran penguatan mendalam untuk mengembangkan sistem pengambilan keputusan yang efisien bagi kendaraan otonom  dengan fokus pada keselamatan dan efisiensi \n",
      " optimasi jaringan neural dalam pengenalan suara untuk asisten virtual   penelitian ini memperkenalkan teknik optimasi untuk meningkatkan kinerja jaringan neural dalam pengenalan suara untuk asisten virtual  memperbaiki interaksi manusia mesin \n",
      " analisis performa algoritma genetika pada penyelesaian masalah optimasi   studi ini mengevaluasi performa algoritma genetika dalam menyelesaikan masalah optimasi dengan menggali kemampuannya dalam menemukan solusi optimal dalam ruang pencarian yang kompleks \n",
      " keamanan data dalam komputasi edge untuk internet of things  iot    fokus pada komputasi edge  penelitian ini membahas strategi dan mekanisme keamanan data untuk mengamankan perangkat iot yang terhubung pada edge networks \n",
      " pemodelan dan simulasi jaringan sensor nirkabel untuk aplikasi lingkungan   penelitian ini memperkenalkan model matematis serta simulasi jaringan sensor nirkabel yang dioptimalkan untuk memantau dan mengumpulkan data lingkungan dengan efisiensi \n",
      " analisis performa sistem terdistribusi pada infrastruktur cloud   dengan fokus pada infrastruktur cloud  penelitian ini menganalisis kinerja sistem terdistribusi untuk mengidentifikasi faktor faktor yang memengaruhi kinerja dan skalabilitasnya \n",
      " perbandingan metode klasifikasi pada pengenalan pola pada citra medis   studi ini membandingkan berbagai metode klasifikasi pada pengenalan pola dalam citra medis untuk meningkatkan akurasi diagnosis dan deteksi penyakit \n",
      " replikasi data yang efisien pada sistem penyimpanan terdistribusi   paper ini memperkenalkan strategi replikasi data yang efisien dalam sistem penyimpanan terdistribusi untuk meningkatkan keandalan dan ketersediaan data \n",
      " pengembangan aplikasi mobile dengan teknologi cross platform   penelitian ini membahas penggunaan teknologi cross platform untuk pengembangan aplikasi mobile guna meminimalkan waktu pengembangan dan memaksimalkan cakupan pengguna \n",
      " keselamatan dan keamanan sistem kendali otomatis pada industri   fokus pada sistem kendali otomatis  penelitian ini mengidentifikasi tantangan dan strategi untuk meningkatkan keselamatan dan keamanan sistem dalam lingkungan industri \n",
      " penggunaan teknologi kecerdasan buatan dalam penjadwalan produksi   penelitian ini membahas penerapan teknologi kecerdasan buatan untuk meningkatkan efisiensi dalam penjadwalan produksi  meminimalkan biaya dan waktu produksi \n",
      " penerapan teknologi blockchain dalam keamanan transaksi finansial   penelitian ini menggali cara penggunaan teknologi blockchain untuk meningkatkan keamanan dan transparansi dalam transaksi finansial  meminimalkan risiko penipuan dan manipulasi data \n",
      " analisis kebutuhan aplikasi internet of things  iot  untuk smart city   studi ini menganalisis kebutuhan teknis dan fungsional untuk pengembangan aplikasi iot yang mendukung konsep smart city  memastikan integrasi dan interkoneksi yang optimal \n",
      " optimasi algoritma penjadwalan dalam sistem cloud computing   penelitian ini bertujuan untuk mengoptimalkan algoritma penjadwalan tugas dalam lingkungan cloud computing guna meningkatkan kinerja dan efisiensi penggunaan sumber daya \n",
      " penggunaan augmented reality dalam pendidikan interaktif   studi ini menjelaskan penerapan teknologi augmented reality  ar  dalam pembelajaran interaktif  memanfaatkan potensi ar untuk meningkatkan pengalaman belajar \n",
      " analisis big data untuk prediksi pola pembelian konsumen   penelitian ini menggunakan analisis big data untuk memprediksi pola pembelian konsumen  membantu perusahaan dalam strategi pemasaran dan peningkatan pengalaman pelanggan \n",
      " deteksi dini anomali jaringan dalam keamanan cyber   fokus pada keamanan cyber  penelitian ini mengeksplorasi teknik deteksi dini anomali jaringan guna mengidentifikasi serangan cyber secara cepat dan efektif \n",
      " pengembangan aplikasi mobile untuk kesehatan mental   studi ini membahas pengembangan aplikasi mobile yang dapat mendukung kesehatan mental  menyediakan layanan dan informasi yang dapat diakses dengan mudah oleh pengguna \n",
      " evaluasi performa sistem penyimpanan terdistribusi pada lingkungan multicloud   penelitian ini mengevaluasi performa sistem penyimpanan terdistribusi dalam lingkungan multicloud untuk memahami tingkat skalabilitas dan efisiensinya \n",
      " pengembangan sistem informasi geografis  sig  untuk analisis spasial   fokus pada analisis spasial  penelitian ini membahas pengembangan sig yang dapat digunakan untuk analisis data geografis dan pengambilan keputusan berbasis lokasi \n",
      " aplikasi pembelajaran mesin dalam pengenalan wajah untuk keamanan   studi ini mengaplikasikan teknik pembelajaran mesin dalam sistem pengenalan wajah untuk meningkatkan keamanan akses pada berbagai platform \n",
      " pemanfaatan teknologi blockchain dalam sistem voting elektronik   penelitian ini mengeksplorasi penggunaan teknologi blockchain dalam pengembangan sistem voting elektronik yang aman  transparan  dan terpercaya \n",
      " analisis performa algoritma klasifikasi pada pengenalan objek pada citra medis   studi ini mengevaluasi dan membandingkan performa beberapa algoritma klasifikasi pada pengenalan objek dalam citra medis untuk meningkatkan akurasi diagnosis \n",
      " integrasi teknologi internet of things dalam pertanian pintar   penelitian ini membahas integrasi teknologi iot dalam bidang pertanian untuk meningkatkan produktivitas  efisiensi  dan monitoring dalam pertanian modern \n",
      " pengembangan sistem rekomendasi berbasis filtering dan machine learning   studi ini mengembangkan sistem rekomendasi yang menggabungkan teknik filtering dan machine learning untuk memberikan rekomendasi yang lebih akurat kepada pengguna \n",
      " analisis performa jaringan neural dalam pengenalan tulisan tangan   penelitian ini menganalisis kinerja jaringan neural dalam pengenalan tulisan tangan untuk meningkatkan akurasi konversi tulisan manual ke format digital \n",
      " penggunaan teknologi kecerdasan buatan dalam pengelolaan energi pintar   studi ini membahas penerapan teknologi kecerdasan buatan untuk mengoptimalkan pengelolaan energi dalam lingkungan smart grid dan bangunan pintar \n",
      " analisis big data untuk pemantauan kesehatan masyarakat   penelitian ini menggunakan analisis big data untuk pemantauan kesehatan masyarakat  mengidentifikasi pola penyakit dan tren kesehatan untuk intervensi yang tepat waktu \n",
      " keamanan dan privasi data dalam pengolahan big data   studi ini fokus pada strategi keamanan dan privasi data dalam pengolahan big data untuk melindungi informasi sensitif dari ancaman keamanan cyber \n",
      " pengembangan aplikasi berbasis web dengan teknologi progressive web apps   penelitian ini membahas pengembangan aplikasi web yang menggunakan teknologi progressive web apps  pwa  untuk meningkatkan pengalaman pengguna \n",
      " penggunaan teknologi augmented reality dalam industri manufaktur   studi ini menjelaskan penerapan teknologi augmented reality  ar  dalam proses produksi dan pelatihan di industri manufaktur \n"
     ]
    }
   ],
   "source": [
    "\n",
    "preprocessed_documents = []\n",
    "for text in documents:\n",
    "    text = BeautifulSoup(text, \"html.parser\").get_text()\n",
    "    text = text.lower()\n",
    "    text = re.sub(r'[\\n\\t\\r]', ' ', text)\n",
    "    text = re.sub(r'[^a-zA-Z\\s]', ' ', text)\n",
    "    print(text)\n",
    "\n",
    "    tokens = word_tokenize(text)\n",
    "\n",
    "    stop_words = set(stopwords.words('indonesian'))\n",
    "    tokens = [token for token in tokens if token.lower() not in stop_words]\n",
    "\n",
    "    factory = StemmerFactory()\n",
    "    stemmer = factory.create_stemmer()\n",
    "    tokens = [stemmer.stem(token) for token in tokens]\n",
    "\n",
    "    preprocessed_document = \" \".join(tokens)\n",
    "\n",
    "    preprocessed_documents.append(preprocessed_document)\n",
    "\n",
    "\n",
    "\n",
    "vectorizer = TfidfVectorizer()\n",
    "tfidf_matrix = vectorizer.fit_transform(preprocessed_documents)"
   ]
  },
  {
   "cell_type": "code",
   "execution_count": 4,
   "metadata": {},
   "outputs": [
    {
     "name": "stdout",
     "output_type": "stream",
     "text": [
      "Jurnal ke: 0 memiliki kemiripan: 46.24170308570497%\n",
      "Jurnal ke: 31 memiliki kemiripan: 37.35589175334809%\n",
      "Jurnal ke: 7 memiliki kemiripan: 36.72018284612384%\n",
      "Jurnal ke: 21 memiliki kemiripan: 36.23420312731056%\n",
      "Jurnal ke: 1 memiliki kemiripan: 0.0%\n",
      "Jurnal ke: 2 memiliki kemiripan: 0.0%\n",
      "Jurnal ke: 3 memiliki kemiripan: 0.0%\n",
      "Jurnal ke: 4 memiliki kemiripan: 0.0%\n",
      "Jurnal ke: 5 memiliki kemiripan: 0.0%\n",
      "Jurnal ke: 6 memiliki kemiripan: 0.0%\n"
     ]
    }
   ],
   "source": [
    "text = \"blockchain\"\n",
    "text = BeautifulSoup(text, \"html.parser\").get_text()\n",
    "text = text.lower()\n",
    "text = re.sub(r'[\\n\\t\\r]', ' ', text)\n",
    "text = re.sub(r'[^a-zA-Z\\s]', ' ', text)\n",
    "\n",
    "tokens = word_tokenize(text)\n",
    "\n",
    "stop_words = set(stopwords.words('indonesian'))\n",
    "tokens = [token for token in tokens if token.lower() not in stop_words]\n",
    "\n",
    "factory = StemmerFactory()\n",
    "stemmer = factory.create_stemmer()\n",
    "tokens = [stemmer.stem(token) for token in tokens]\n",
    "\n",
    "preprocessed_document = \" \".join(tokens)\n",
    "\n",
    "query = preprocessed_document\n",
    "query_vector = vectorizer.transform([query])\n",
    "similarity_scores = cosine_similarity(query_vector, tfidf_matrix)\n",
    "\n",
    "best_match_indices = heapq.nlargest(10, range(len(similarity_scores[0])), similarity_scores[0].__getitem__)\n",
    "best_match_scores = [similarity_scores[0][index] for index in best_match_indices]\n",
    "\n",
    "for index, score in zip(best_match_indices, best_match_scores):\n",
    "    print(f\"Jurnal ke: {index} memiliki kemiripan: {score*100}%\")"
   ]
  },
  {
   "cell_type": "code",
   "execution_count": 5,
   "metadata": {},
   "outputs": [],
   "source": [
    "def save_model(model, filepath):\n",
    "    joblib.dump(model, filepath)\n",
    "\n",
    "def load_model(filepath):\n",
    "    return joblib.load(filepath)\n",
    "\n"
   ]
  },
  {
   "cell_type": "code",
   "execution_count": 6,
   "metadata": {},
   "outputs": [],
   "source": [
    "save_model(vectorizer, \"tfidf_document.joblib\")\n",
    "save_model(tfidf_matrix, \"tfidf_matrix.joblib\")"
   ]
  },
  {
   "cell_type": "code",
   "execution_count": 7,
   "metadata": {},
   "outputs": [
    {
     "name": "stdout",
     "output_type": "stream",
     "text": [
      "Jurnal ke: 0 memiliki kemiripan: 17.930919059190206%\n",
      "Jurnal ke: 4 memiliki kemiripan: 14.944541856131133%\n",
      "Jurnal ke: 1 memiliki kemiripan: 0.0%\n",
      "Jurnal ke: 2 memiliki kemiripan: 0.0%\n",
      "Jurnal ke: 3 memiliki kemiripan: 0.0%\n"
     ]
    }
   ],
   "source": [
    "loaded_vectorizer = load_model(\"tfidf_document.joblib\")\n",
    "loaded_tfidf_matrix = load_model(\"tfidf_matrix.joblib\")\n",
    "\n",
    "text = \"jurnal\"\n",
    "text = BeautifulSoup(text, \"html.parser\").get_text()\n",
    "text = text.lower()\n",
    "text = re.sub(r'[\\n\\t\\r]', ' ', text)\n",
    "text = re.sub(r'[^a-zA-Z\\s]', ' ', text)\n",
    "\n",
    "tokens = word_tokenize(text)\n",
    "\n",
    "stop_words = set(stopwords.words('indonesian'))\n",
    "tokens = [token for token in tokens if token.lower() not in stop_words]\n",
    "\n",
    "factory = StemmerFactory()\n",
    "stemmer = factory.create_stemmer()\n",
    "tokens = [stemmer.stem(token) for token in tokens]\n",
    "\n",
    "preprocessed_document = \" \".join(tokens)\n",
    "\n",
    "query = preprocessed_document\n",
    "query_vector = loaded_vectorizer.transform([query])\n",
    "similarity_scores = cosine_similarity(query_vector, loaded_tfidf_matrix)\n",
    "\n",
    "best_match_indices = heapq.nlargest(5, range(len(similarity_scores[0])), similarity_scores[0].__getitem__)\n",
    "best_match_scores = [similarity_scores[0][index] for index in best_match_indices]\n",
    "\n",
    "r = zip(best_match_indices, best_match_scores)\n",
    "for index, score in r:\n",
    "    print(f\"Jurnal ke: {index} memiliki kemiripan: {score*100}%\")\n"
   ]
  }
 ],
 "metadata": {
  "kernelspec": {
   "display_name": "Python 3",
   "language": "python",
   "name": "python3"
  },
  "language_info": {
   "codemirror_mode": {
    "name": "ipython",
    "version": 3
   },
   "file_extension": ".py",
   "mimetype": "text/x-python",
   "name": "python",
   "nbconvert_exporter": "python",
   "pygments_lexer": "ipython3",
   "version": "3.8.0"
  }
 },
 "nbformat": 4,
 "nbformat_minor": 2
}
